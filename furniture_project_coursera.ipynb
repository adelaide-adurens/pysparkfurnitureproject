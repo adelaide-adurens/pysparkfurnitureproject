{
  "nbformat": 4,
  "nbformat_minor": 0,
  "metadata": {
    "colab": {
      "provenance": []
    },
    "kernelspec": {
      "name": "python3",
      "display_name": "Python 3"
    },
    "language_info": {
      "name": "python"
    }
  },
  "cells": [
    {
      "cell_type": "code",
      "execution_count": 5,
      "metadata": {
        "colab": {
          "base_uri": "https://localhost:8080/"
        },
        "id": "v-LRFbfN2NjA",
        "outputId": "f9fda229-ea3e-4139-93f4-d8bd69332c6b"
      },
      "outputs": [
        {
          "output_type": "stream",
          "name": "stdout",
          "text": [
            "Requirement already satisfied: pyspark in /usr/local/lib/python3.11/dist-packages (3.5.5)\n",
            "Requirement already satisfied: py4j==0.10.9.7 in /usr/local/lib/python3.11/dist-packages (from pyspark) (0.10.9.7)\n"
          ]
        }
      ],
      "source": [
        "!pip install pyspark\n",
        "from pyspark.sql import SparkSession"
      ]
    },
    {
      "cell_type": "code",
      "source": [
        "sc = SparkSession.builder.appName('test').getOrCreate()"
      ],
      "metadata": {
        "id": "0FF7QC8o244T"
      },
      "execution_count": 6,
      "outputs": []
    },
    {
      "cell_type": "code",
      "source": [
        "# 1.Load the sales data into a PySpark DataFrame so we can work with it.\n",
        "df = sc.read.csv('furniture.csv', header=True, inferSchema=True)\n",
        "df.show()\n",
        "df.count()"
      ],
      "metadata": {
        "colab": {
          "base_uri": "https://localhost:8080/"
        },
        "id": "9rZ3rPmx2-c6",
        "outputId": "04945966-0a4b-40b8-976f-015a59a4ecaf"
      },
      "execution_count": 8,
      "outputs": [
        {
          "output_type": "stream",
          "name": "stdout",
          "text": [
            "+---------+----------+------------+--------+-------+----------+---------+\n",
            "|  OrderID|CustomerID|ProductNames|Quantity|  Price| OrderDate|   Region|\n",
            "+---------+----------+------------+--------+-------+----------+---------+\n",
            "|ORD100000|  CUST9055|   Bookshelf|       2|1865.65|2023-03-12|   France|\n",
            "|ORD100001|  CUST1538|        Sofa|       4|1726.87|2024-03-08|    China|\n",
            "|ORD100002|  CUST6940|Coffee Table|       4| 760.89|2022-06-20|    China|\n",
            "|ORD100003|  CUST1625|     Dresser|       5| 368.03|2023-05-01|   France|\n",
            "|ORD100004|  CUST9204|    TV Stand|       1| 753.76|2023-07-03|    India|\n",
            "|ORD100005|  CUST6897|    Recliner|       2|1042.94|2024-07-17|Australia|\n",
            "|ORD100006|  CUST3475|Coffee Table|       6| 753.17|2022-06-24|    China|\n",
            "|ORD100007|  CUST6039|     Dresser|       8|1989.12|2023-04-19|Australia|\n",
            "|ORD100008|  CUST9930|Coffee Table|       8|  91.61|2023-12-27|  Germany|\n",
            "|ORD100009|  CUST2570|        Sofa|       3|1390.53|2023-03-28|   France|\n",
            "|ORD100010|  CUST5997|     Dresser|       1|1151.16|2024-08-19|  Germany|\n",
            "|ORD100011|  CUST5634|    Recliner|       6| 820.04|2023-03-15|Australia|\n",
            "|ORD100012|  CUST2994|   Bookshelf|       3|1364.56|2024-01-20|   Canada|\n",
            "|ORD100013|  CUST5054|   Bed Frame|       7| 996.79|2024-07-09|       UK|\n",
            "|ORD100014|  CUST2127|   Bed Frame|       9| 656.89|2022-07-21|   Brazil|\n",
            "|ORD100015|  CUST9977|   Bed Frame|       2|1412.07|2022-07-08|Australia|\n",
            "|ORD100016|  CUST2691|    TV Stand|      10|1144.04|2022-08-09|   Brazil|\n",
            "|ORD100017|  CUST3222|Coffee Table|       7|  63.52|2022-04-27|    Japan|\n",
            "|ORD100018|  CUST5433|   Bookshelf|       9|1677.96|2024-02-19|   France|\n",
            "|ORD100019|  CUST5999|        Sofa|       9| 958.13|2024-03-11|       UK|\n",
            "+---------+----------+------------+--------+-------+----------+---------+\n",
            "only showing top 20 rows\n",
            "\n"
          ]
        },
        {
          "output_type": "execute_result",
          "data": {
            "text/plain": [
              "1500"
            ]
          },
          "metadata": {},
          "execution_count": 8
        }
      ]
    },
    {
      "cell_type": "code",
      "source": [
        "# 2.Clean the data by fixing missing values and making sure the dates are in the right format.\n",
        "\n",
        "df.dropDuplicates()\n",
        "df.dropna()\n",
        "print(df.count())\n",
        "df.printSchema()"
      ],
      "metadata": {
        "colab": {
          "base_uri": "https://localhost:8080/"
        },
        "id": "KSQRkmun3CvZ",
        "outputId": "02cdcbe2-2760-428e-9fff-95473fdd0739"
      },
      "execution_count": 9,
      "outputs": [
        {
          "output_type": "stream",
          "name": "stdout",
          "text": [
            "1500\n",
            "root\n",
            " |-- OrderID: string (nullable = true)\n",
            " |-- CustomerID: string (nullable = true)\n",
            " |-- ProductNames: string (nullable = true)\n",
            " |-- Quantity: integer (nullable = true)\n",
            " |-- Price: double (nullable = true)\n",
            " |-- OrderDate: date (nullable = true)\n",
            " |-- Region: string (nullable = true)\n",
            "\n"
          ]
        }
      ]
    },
    {
      "cell_type": "code",
      "source": [
        "# 3.Calculate the total sales for each product to see which products bring in the most money.\n",
        "\n",
        "from pyspark.sql.functions import desc, round, sum, col\n",
        "\n",
        "(\n",
        "    df.groupBy('ProductNames')\n",
        "    .agg(sum('Price').alias('TotalSales'))\n",
        "    .withColumn('TotalSales', round(col('TotalSales'), 2))\n",
        "    .orderBy(desc('TotalSales'))\n",
        "    .show()\n",
        ")"
      ],
      "metadata": {
        "colab": {
          "base_uri": "https://localhost:8080/"
        },
        "id": "Vx0MVMwM3HMQ",
        "outputId": "27454eab-c5d9-45cc-a4a0-e3350cc08db1"
      },
      "execution_count": 10,
      "outputs": [
        {
          "output_type": "stream",
          "name": "stdout",
          "text": [
            "+------------+----------+\n",
            "|ProductNames|TotalSales|\n",
            "+------------+----------+\n",
            "|    Recliner|  176088.3|\n",
            "|Office Chair|  175345.3|\n",
            "|    Wardrobe| 163726.85|\n",
            "|Coffee Table|  157625.7|\n",
            "|   Bed Frame| 152786.91|\n",
            "|Dining Table| 150707.93|\n",
            "|   Bookshelf|  149913.7|\n",
            "|        Sofa| 147653.83|\n",
            "|    TV Stand| 143703.18|\n",
            "|     Dresser| 139437.91|\n",
            "+------------+----------+\n",
            "\n"
          ]
        }
      ]
    },
    {
      "cell_type": "code",
      "source": [
        "# 4.Find out which products have sold the most units overall.\n",
        "\n",
        "(\n",
        "    df.groupBy('ProductNames')\n",
        "    .agg(sum('Quantity').alias('TotalSold'))\n",
        "    .orderBy(desc('TotalSold'))\n",
        "    .show()\n",
        ")"
      ],
      "metadata": {
        "colab": {
          "base_uri": "https://localhost:8080/"
        },
        "id": "5Pg28jIn5CWC",
        "outputId": "1bc6b766-4dd4-4ce1-b3cc-5f8459c930a4"
      },
      "execution_count": 11,
      "outputs": [
        {
          "output_type": "stream",
          "name": "stdout",
          "text": [
            "+------------+---------+\n",
            "|ProductNames|TotalSold|\n",
            "+------------+---------+\n",
            "|Office Chair|      921|\n",
            "|   Bookshelf|      882|\n",
            "|    Wardrobe|      882|\n",
            "|    Recliner|      872|\n",
            "|Coffee Table|      856|\n",
            "|   Bed Frame|      835|\n",
            "|        Sofa|      783|\n",
            "|Dining Table|      744|\n",
            "|    TV Stand|      709|\n",
            "|     Dresser|      707|\n",
            "+------------+---------+\n",
            "\n"
          ]
        }
      ]
    },
    {
      "cell_type": "code",
      "source": [
        "# 5.Analyze how much revenue each region generates to compare performance across locations.\n",
        "(\n",
        "    df.groupBy('OrderDate')\n",
        "    .agg(sum('Price').alias('TotalSales'))\n",
        "    .withColumn('TotalSales', round(col('TotalSales'), 2))\n",
        "    .orderBy(desc('TotalSales'))\n",
        "    .show()\n",
        ")\n"
      ],
      "metadata": {
        "colab": {
          "base_uri": "https://localhost:8080/"
        },
        "id": "ql818Wny7nKl",
        "outputId": "a938f551-b61c-4fd5-afc7-51395b45b30a"
      },
      "execution_count": 12,
      "outputs": [
        {
          "output_type": "stream",
          "name": "stdout",
          "text": [
            "+----------+----------+\n",
            "| OrderDate|TotalSales|\n",
            "+----------+----------+\n",
            "|2024-03-20|   7368.86|\n",
            "|2024-06-02|   7199.34|\n",
            "|2023-11-24|   7183.07|\n",
            "|2021-10-28|   7138.58|\n",
            "|2021-10-27|   7130.21|\n",
            "|2024-01-05|   6228.87|\n",
            "|2021-11-01|   6221.28|\n",
            "|2022-11-23|   5909.39|\n",
            "|2024-08-22|   5738.38|\n",
            "|2022-03-07|   5611.24|\n",
            "|2022-07-03|   5558.91|\n",
            "|2023-05-05|   5479.41|\n",
            "|2022-08-28|   5436.46|\n",
            "|2021-10-18|   5392.51|\n",
            "|2022-03-23|   5248.09|\n",
            "|2024-05-07|   5066.21|\n",
            "|2024-03-14|    5034.3|\n",
            "|2022-04-04|   5031.55|\n",
            "|2022-03-22|   4938.22|\n",
            "|2022-09-04|   4904.69|\n",
            "+----------+----------+\n",
            "only showing top 20 rows\n",
            "\n"
          ]
        }
      ]
    },
    {
      "cell_type": "code",
      "source": [
        "# 6.Look at monthly and yearly sales patterns to understand which times of the year sales are highest.\n",
        "\n",
        "#6.1 monthly\n",
        "\n",
        "from pyspark.sql.functions import year, month, date_format\n",
        "\n",
        "(\n",
        "    df.withColumn('MonthYear', date_format('OrderDate', 'yyyy-MM'))\n",
        "    .groupBy('MonthYear')\n",
        "    .agg(sum('Price').alias('TotalSales'))\n",
        "    .withColumn('TotalSales', round(col('TotalSales'), 2))\n",
        "    .orderBy('MonthYear')\n",
        "    .show()\n",
        ")\n"
      ],
      "metadata": {
        "colab": {
          "base_uri": "https://localhost:8080/"
        },
        "id": "ssi4Y6TM7041",
        "outputId": "f5e7721e-729a-4c32-da15-3d699e44778b"
      },
      "execution_count": 13,
      "outputs": [
        {
          "output_type": "stream",
          "name": "stdout",
          "text": [
            "+---------+----------+\n",
            "|MonthYear|TotalSales|\n",
            "+---------+----------+\n",
            "|  2021-10|  40387.38|\n",
            "|  2021-11|  37634.81|\n",
            "|  2021-12|  44547.86|\n",
            "|  2022-01|  35851.68|\n",
            "|  2022-02|   26682.5|\n",
            "|  2022-03|  53903.42|\n",
            "|  2022-04|  44785.47|\n",
            "|  2022-05|  44709.65|\n",
            "|  2022-06|  41153.84|\n",
            "|  2022-07|  51177.91|\n",
            "|  2022-08|  49083.47|\n",
            "|  2022-09|  40638.26|\n",
            "|  2022-10|  30614.97|\n",
            "|  2022-11|   49112.0|\n",
            "|  2022-12|  40275.13|\n",
            "|  2023-01|  28786.41|\n",
            "|  2023-02|  35666.32|\n",
            "|  2023-03|  50103.92|\n",
            "|  2023-04|  39763.02|\n",
            "|  2023-05|   36644.2|\n",
            "+---------+----------+\n",
            "only showing top 20 rows\n",
            "\n"
          ]
        }
      ]
    },
    {
      "cell_type": "code",
      "source": [
        "import matplotlib.pyplot as plt\n",
        "\n",
        "monthly_sales_pd = (\n",
        "    df.withColumn('MonthYear', date_format('OrderDate', 'yyyy-MM'))\n",
        "    .groupBy('MonthYear')\n",
        "    .agg(sum('Price').alias('TotalSales'))\n",
        "    .withColumn('TotalSales', round(col('TotalSales'), 2))\n",
        "    .orderBy('MonthYear')\n",
        "    .toPandas()\n",
        ")\n",
        "plt.figure(figsize=(12, 6))\n",
        "plt.bar(monthly_sales_pd['MonthYear'], monthly_sales_pd['TotalSales'])\n",
        "plt.xlabel('Month-Year')\n",
        "plt.ylabel('Total Sales')\n",
        "plt.title('Monthly Sales Trend')\n",
        "plt.xticks(rotation=45, ha='right')\n",
        "plt.tight_layout()\n",
        "plt.show()"
      ],
      "metadata": {
        "colab": {
          "base_uri": "https://localhost:8080/",
          "height": 329
        },
        "id": "Fkq4-yBL9Mip",
        "outputId": "c9f49106-6290-4bc9-d428-71408c46580c"
      },
      "execution_count": 15,
      "outputs": [
        {
          "output_type": "display_data",
          "data": {
            "text/plain": [
              "<Figure size 1200x600 with 1 Axes>"
            ],
            "image/png": "[encoded data removed]"
          },
          "metadata": {}
        }
      ]
    },
    {
      "cell_type": "code",
      "source": [
        "# 6.Look at monthly and yearly sales patterns to understand which times of the year sales are highest.\n",
        "\n",
        "#6.1 yearly\n",
        "\n",
        "(\n",
        "    df.withColumn('Year', date_format('OrderDate', 'yyyy'))\n",
        "    .groupBy('Year')\n",
        "    .agg(sum('Price').alias('TotalSales'))\n",
        "    .withColumn('TotalSales', round(col('TotalSales'), 2))\n",
        "    .orderBy('Year')\n",
        "    .show()\n",
        ")"
      ],
      "metadata": {
        "colab": {
          "base_uri": "https://localhost:8080/"
        },
        "id": "I-TMxVxF86jq",
        "outputId": "755e042e-2642-4f17-b410-4ee4c46730f7"
      },
      "execution_count": 16,
      "outputs": [
        {
          "output_type": "stream",
          "name": "stdout",
          "text": [
            "+----+----------+\n",
            "|Year|TotalSales|\n",
            "+----+----------+\n",
            "|2021| 122570.05|\n",
            "|2022|  507988.3|\n",
            "|2023| 507073.39|\n",
            "|2024| 419357.87|\n",
            "+----+----------+\n",
            "\n"
          ]
        }
      ]
    },
    {
      "cell_type": "code",
      "source": [
        "yearly_sales_pd = (\n",
        "    df.withColumn('Year', date_format('OrderDate', 'yyyy'))\n",
        "    .groupBy('Year')\n",
        "    .agg(sum('Price').alias('TotalSales'))\n",
        "    .withColumn('TotalSales', round(col('TotalSales'), 2))\n",
        "    .orderBy('Year')\n",
        "    .toPandas()\n",
        ")\n",
        "\n",
        "plt.figure(figsize=(12, 6))\n",
        "plt.bar(yearly_sales_pd['Year'], yearly_sales_pd['TotalSales'])\n",
        "plt.xlabel('Year')\n",
        "plt.ylabel('Total Sales')\n",
        "plt.title('Yearly Sales Trend')\n",
        "plt.xticks(rotation=45, ha='right')\n",
        "plt.tight_layout()\n",
        "plt.show()"
      ],
      "metadata": {
        "colab": {
          "base_uri": "https://localhost:8080/",
          "height": 329
        },
        "id": "H3dREgQo-WzF",
        "outputId": "4408b780-a3e3-49c6-f9c4-74b86c937a8b"
      },
      "execution_count": 17,
      "outputs": [
        {
          "output_type": "display_data",
          "data": {
            "text/plain": [
              "<Figure size 1200x600 with 1 Axes>"
            ],
            "image/png": "[encoded data removed]"
          },
          "metadata": {}
        }
      ]
    },
    {
      "cell_type": "code",
      "source": [
        "# 7.Group customers based on how much they spend to identify the most valuable ones.\n",
        "from pyspark.sql.functions import *\n",
        "\n",
        "# Calculate total spending for each customer\n",
        "customer_spending = df.groupBy('CustomerID') \\\n",
        "    .agg(sum('Price').alias('TotalSales')) \\\n",
        "    .withColumn('TotalSales', round(col('TotalSales'), 2))\n",
        "\n",
        "# Define spending thresholds for categorization\n",
        "high_spending_threshold = 3000\n",
        "medium_spending_threshold = 1500\n",
        "\n",
        "# Add a new column 'SpendingCategory' based on total spending\n",
        "customer_spending = customer_spending.withColumn(\n",
        "    'SpendingCategory',\n",
        "    when(col('TotalSales') >= high_spending_threshold, lit('High Spender'))\n",
        "    .when(col('TotalSales') >= medium_spending_threshold, lit('Medium Spender'))\n",
        "    .otherwise(lit('Low Spender'))\n",
        ")\n",
        "\n",
        "# Join with the original DataFrame to include customer characteristics\n",
        "customer_details = df.join(customer_spending, on='CustomerID', how='inner')\n",
        "\n",
        "\n",
        "# Group by 'SpendingCategory' and 'Region' and analyze characteristics\n",
        "region_spending = customer_details.groupBy('SpendingCategory', 'Region') \\\n",
        "    .agg(\n",
        "        count('*').alias('CustomerCount'),\n",
        "        round(avg('Quantity'), 2).alias('AvgQuantity'),\n",
        "        round(avg('Price'), 2).alias('AvgPrice')\n",
        "    )\n",
        "\n",
        "# Pivot the table to have regions as columns\n",
        "region_spending_pivot = region_spending.groupBy('SpendingCategory') \\\n",
        "    .pivot('Region') \\\n",
        "    .agg(first('CustomerCount').alias('CustomerCount'),\n",
        "         first('AvgQuantity').alias('AvgQuantity'),\n",
        "         first('AvgPrice').alias('AvgPrice'))\n",
        "\n",
        "region_spending_pivot.show()\n"
      ],
      "metadata": {
        "colab": {
          "base_uri": "https://localhost:8080/"
        },
        "id": "X3UFpGpM8Dv1",
        "outputId": "e7aef780-1368-44f8-f854-017c5cbebd2a"
      },
      "execution_count": 18,
      "outputs": [
        {
          "output_type": "stream",
          "name": "stdout",
          "text": [
            "+----------------+-----------------------+---------------------+------------------+--------------------+------------------+---------------+--------------------+------------------+---------------+-------------------+-----------------+--------------+--------------------+------------------+---------------+---------------------+-------------------+----------------+-------------------+-----------------+--------------+-------------------+-----------------+--------------+----------------+--------------+-----------+-----------------+---------------+------------+\n",
            "|SpendingCategory|Australia_CustomerCount|Australia_AvgQuantity|Australia_AvgPrice|Brazil_CustomerCount|Brazil_AvgQuantity|Brazil_AvgPrice|Canada_CustomerCount|Canada_AvgQuantity|Canada_AvgPrice|China_CustomerCount|China_AvgQuantity|China_AvgPrice|France_CustomerCount|France_AvgQuantity|France_AvgPrice|Germany_CustomerCount|Germany_AvgQuantity|Germany_AvgPrice|India_CustomerCount|India_AvgQuantity|India_AvgPrice|Japan_CustomerCount|Japan_AvgQuantity|Japan_AvgPrice|UK_CustomerCount|UK_AvgQuantity|UK_AvgPrice|USA_CustomerCount|USA_AvgQuantity|USA_AvgPrice|\n",
            "+----------------+-----------------------+---------------------+------------------+--------------------+------------------+---------------+--------------------+------------------+---------------+-------------------+-----------------+--------------+--------------------+------------------+---------------+---------------------+-------------------+----------------+-------------------+-----------------+--------------+-------------------+-----------------+--------------+----------------+--------------+-----------+-----------------+---------------+------------+\n",
            "|  Medium Spender|                     53|                 5.47|            1461.0|                  56|              6.27|        1514.69|                  50|              5.82|        1483.41|                 51|             6.06|       1588.64|                  55|              5.58|        1498.14|                   47|                5.4|         1543.83|                 47|             5.36|       1437.84|                 49|             5.29|        1602.3|              50|          5.52|    1479.91|               50|           4.94|     1540.06|\n",
            "|    High Spender|                      4|                 8.25|           1129.61|                   4|               7.0|        1541.04|                   7|              6.14|        1442.95|                  5|              6.4|       1568.99|                   5|               3.6|         1720.4|                    7|               6.86|         1602.43|                  3|              8.0|       1760.89|                  4|             5.25|       1770.94|               5|           4.2|    1486.72|                4|            4.0|     1616.05|\n",
            "|     Low Spender|                    105|                 5.43|            760.94|                  91|              5.86|         791.45|                  89|              5.46|          766.3|                 95|             4.85|         741.6|                  83|              5.24|         782.47|                   96|               5.31|          645.99|                 87|             5.05|        805.72|                119|             5.18|        763.71|              82|          5.39|     743.95|               97|           5.97|      755.33|\n",
            "+----------------+-----------------------+---------------------+------------------+--------------------+------------------+---------------+--------------------+------------------+---------------+-------------------+-----------------+--------------+--------------------+------------------+---------------+---------------------+-------------------+----------------+-------------------+-----------------+--------------+-------------------+-----------------+--------------+----------------+--------------+-----------+-----------------+---------------+------------+\n",
            "\n"
          ]
        }
      ]
    },
    {
      "cell_type": "code",
      "source": [
        "# 8.Calculate the average amount spent on each order to understand typical customer spending.\n",
        "\n",
        "df.agg(avg('Price').alias('AvgAmount')) \\\n",
        "    .withColumn('AvgAmount', round(col('AvgAmount'), 2)).show()"
      ],
      "metadata": {
        "colab": {
          "base_uri": "https://localhost:8080/"
        },
        "id": "pkf7mV5w-77E",
        "outputId": "20d236d8-258a-4225-ea87-95b607740e8e"
      },
      "execution_count": 19,
      "outputs": [
        {
          "output_type": "stream",
          "name": "stdout",
          "text": [
            "+---------+\n",
            "|AvgAmount|\n",
            "+---------+\n",
            "|  1037.99|\n",
            "+---------+\n",
            "\n"
          ]
        }
      ]
    },
    {
      "cell_type": "code",
      "source": [
        "# 9.Compare how well each product sells in different regions to find out local preferences.\n",
        "(df.groupBy('ProductNames', 'Region') \\\n",
        "    .agg(\n",
        "        sum('Quantity').alias('AmountSold') )\n",
        "    .orderBy('ProductNames','Region')\n",
        "    ).show()\n"
      ],
      "metadata": {
        "colab": {
          "base_uri": "https://localhost:8080/"
        },
        "id": "FdIPa_3mBjWb",
        "outputId": "781802ee-1987-465e-eaf4-29c674f5b99c"
      },
      "execution_count": 20,
      "outputs": [
        {
          "output_type": "stream",
          "name": "stdout",
          "text": [
            "+------------+---------+----------+\n",
            "|ProductNames|   Region|AmountSold|\n",
            "+------------+---------+----------+\n",
            "|   Bed Frame|Australia|        99|\n",
            "|   Bed Frame|   Brazil|        75|\n",
            "|   Bed Frame|   Canada|       123|\n",
            "|   Bed Frame|    China|       132|\n",
            "|   Bed Frame|   France|        42|\n",
            "|   Bed Frame|  Germany|        78|\n",
            "|   Bed Frame|    India|        99|\n",
            "|   Bed Frame|    Japan|        55|\n",
            "|   Bed Frame|       UK|        59|\n",
            "|   Bed Frame|      USA|        73|\n",
            "|   Bookshelf|Australia|        78|\n",
            "|   Bookshelf|   Brazil|       119|\n",
            "|   Bookshelf|   Canada|        88|\n",
            "|   Bookshelf|    China|        56|\n",
            "|   Bookshelf|   France|       127|\n",
            "|   Bookshelf|  Germany|       103|\n",
            "|   Bookshelf|    India|        25|\n",
            "|   Bookshelf|    Japan|       115|\n",
            "|   Bookshelf|       UK|        73|\n",
            "|   Bookshelf|      USA|        98|\n",
            "+------------+---------+----------+\n",
            "only showing top 20 rows\n",
            "\n"
          ]
        }
      ]
    },
    {
      "cell_type": "code",
      "source": [
        "# 10.Identify products with consistently low sales to decide if any changes are needed.\n",
        "\n",
        "#Monthly\n",
        "(\n",
        "    df.withColumn('MonthYear', date_format('OrderDate', 'yyyy-MM'))\n",
        "    .groupBy('MonthYear','ProductNames')\n",
        "    .agg(sum('Quantity').alias('TotalQuantity'))\n",
        "    .orderBy('ProductNames','TotalQuantity')\n",
        "    .show()\n",
        ")\n"
      ],
      "metadata": {
        "colab": {
          "base_uri": "https://localhost:8080/"
        },
        "id": "QhvCmXWzC1Et",
        "outputId": "5bc26b19-0d19-49a9-bc0c-f153a3d470ec"
      },
      "execution_count": 21,
      "outputs": [
        {
          "output_type": "stream",
          "name": "stdout",
          "text": [
            "+---------+------------+-------------+\n",
            "|MonthYear|ProductNames|TotalQuantity|\n",
            "+---------+------------+-------------+\n",
            "|  2023-08|   Bed Frame|            4|\n",
            "|  2022-09|   Bed Frame|            6|\n",
            "|  2024-10|   Bed Frame|            8|\n",
            "|  2023-06|   Bed Frame|           10|\n",
            "|  2022-08|   Bed Frame|           11|\n",
            "|  2024-05|   Bed Frame|           12|\n",
            "|  2022-01|   Bed Frame|           13|\n",
            "|  2022-06|   Bed Frame|           13|\n",
            "|  2022-10|   Bed Frame|           14|\n",
            "|  2023-02|   Bed Frame|           15|\n",
            "|  2024-06|   Bed Frame|           15|\n",
            "|  2023-04|   Bed Frame|           15|\n",
            "|  2021-10|   Bed Frame|           16|\n",
            "|  2024-08|   Bed Frame|           17|\n",
            "|  2024-02|   Bed Frame|           19|\n",
            "|  2021-12|   Bed Frame|           20|\n",
            "|  2023-07|   Bed Frame|           21|\n",
            "|  2024-04|   Bed Frame|           21|\n",
            "|  2022-05|   Bed Frame|           21|\n",
            "|  2022-02|   Bed Frame|           22|\n",
            "+---------+------------+-------------+\n",
            "only showing top 20 rows\n",
            "\n"
          ]
        }
      ]
    },
    {
      "cell_type": "code",
      "source": [
        "#Yearly\n",
        "(\n",
        "    df.withColumn('Year', date_format('OrderDate', 'yyyy'))\n",
        "    .groupBy('Year','ProductNames')\n",
        "    .agg(sum('Quantity').alias('TotalQuantity'))\n",
        "    .orderBy('ProductNames','TotalQuantity')\n",
        "    .show()\n",
        ")"
      ],
      "metadata": {
        "colab": {
          "base_uri": "https://localhost:8080/"
        },
        "id": "U9ZWs-0JFvBC",
        "outputId": "1cf031a6-10c8-473c-d4ab-a0144b077b94"
      },
      "execution_count": 22,
      "outputs": [
        {
          "output_type": "stream",
          "name": "stdout",
          "text": [
            "+----+------------+-------------+\n",
            "|Year|ProductNames|TotalQuantity|\n",
            "+----+------------+-------------+\n",
            "|2021|   Bed Frame|           64|\n",
            "|2024|   Bed Frame|          229|\n",
            "|2022|   Bed Frame|          267|\n",
            "|2023|   Bed Frame|          275|\n",
            "|2021|   Bookshelf|           89|\n",
            "|2022|   Bookshelf|          222|\n",
            "|2024|   Bookshelf|          255|\n",
            "|2023|   Bookshelf|          316|\n",
            "|2021|Coffee Table|           52|\n",
            "|2024|Coffee Table|          252|\n",
            "|2022|Coffee Table|          270|\n",
            "|2023|Coffee Table|          282|\n",
            "|2021|Dining Table|           57|\n",
            "|2024|Dining Table|          222|\n",
            "|2023|Dining Table|          228|\n",
            "|2022|Dining Table|          237|\n",
            "|2021|     Dresser|           41|\n",
            "|2024|     Dresser|          191|\n",
            "|2022|     Dresser|          222|\n",
            "|2023|     Dresser|          253|\n",
            "+----+------------+-------------+\n",
            "only showing top 20 rows\n",
            "\n"
          ]
        }
      ]
    },
    {
      "cell_type": "code",
      "source": [
        "# 11.Find the specific days with the highest sales to understand when demand peaks.\n",
        "\n",
        "#day of the week\n",
        "(\n",
        "    df.withColumn('DayOfTheWeek', date_format('OrderDate', 'EEEE'))\n",
        "    .groupBy('DayOfTheWeek')\n",
        "    .agg(sum('Price').alias('TotalSales'))\n",
        "    .withColumn('TotalSales', round(col('TotalSales'), 2))\n",
        "    .orderBy(desc('TotalSales'))\n",
        "    .show()\n",
        ")\n"
      ],
      "metadata": {
        "colab": {
          "base_uri": "https://localhost:8080/"
        },
        "id": "6cfCO0YjEHZa",
        "outputId": "b23b053e-14b5-4ef3-f7d1-77083953430b"
      },
      "execution_count": 26,
      "outputs": [
        {
          "output_type": "stream",
          "name": "stdout",
          "text": [
            "+------------+----------+\n",
            "|DayOfTheWeek|TotalSales|\n",
            "+------------+----------+\n",
            "|      Friday| 234913.34|\n",
            "|   Wednesday| 233013.72|\n",
            "|      Sunday| 226087.73|\n",
            "|      Monday| 225493.19|\n",
            "|     Tuesday| 221908.77|\n",
            "|    Saturday| 217535.46|\n",
            "|    Thursday|  198037.4|\n",
            "+------------+----------+\n",
            "\n"
          ]
        }
      ]
    },
    {
      "cell_type": "code",
      "source": [
        "#date\n",
        "(\n",
        "    df.groupBy('OrderDate')\n",
        "    .agg(sum('Price').alias('TotalSales'))\n",
        "    .withColumn('TotalSales', round(col('TotalSales'), 2))\n",
        "    .orderBy(desc('TotalSales'))\n",
        "    .show()\n",
        ")\n"
      ],
      "metadata": {
        "colab": {
          "base_uri": "https://localhost:8080/"
        },
        "id": "vybpYwpd_G8j",
        "outputId": "f2421683-1bd4-4001-f6b0-0692c6b08483"
      },
      "execution_count": 27,
      "outputs": [
        {
          "output_type": "stream",
          "name": "stdout",
          "text": [
            "+----------+----------+\n",
            "| OrderDate|TotalSales|\n",
            "+----------+----------+\n",
            "|2024-03-20|   7368.86|\n",
            "|2024-06-02|   7199.34|\n",
            "|2023-11-24|   7183.07|\n",
            "|2021-10-28|   7138.58|\n",
            "|2021-10-27|   7130.21|\n",
            "|2024-01-05|   6228.87|\n",
            "|2021-11-01|   6221.28|\n",
            "|2022-11-23|   5909.39|\n",
            "|2024-08-22|   5738.38|\n",
            "|2022-03-07|   5611.24|\n",
            "|2022-07-03|   5558.91|\n",
            "|2023-05-05|   5479.41|\n",
            "|2022-08-28|   5436.46|\n",
            "|2021-10-18|   5392.51|\n",
            "|2022-03-23|   5248.09|\n",
            "|2024-05-07|   5066.21|\n",
            "|2024-03-14|    5034.3|\n",
            "|2022-04-04|   5031.55|\n",
            "|2022-03-22|   4938.22|\n",
            "|2022-09-04|   4904.69|\n",
            "+----------+----------+\n",
            "only showing top 20 rows\n",
            "\n"
          ]
        }
      ]
    },
    {
      "cell_type": "code",
      "source": [
        "# 12.Suggest the right stock levels for each product based on past sales patterns.\n",
        "(\n",
        "    df.withColumn('Month', date_format('OrderDate', 'MM'))\n",
        "      .groupBy('Month','ProductNames')\n",
        "      .agg(avg('Quantity').alias('SuggestedStock'))\n",
        "      .withColumn('SuggestedStock', ceil(col('SuggestedStock')))\n",
        "      .orderBy('Month', 'ProductNames')\n",
        "      .show()\n",
        ")"
      ],
      "metadata": {
        "colab": {
          "base_uri": "https://localhost:8080/"
        },
        "id": "zdaLuobZF73H",
        "outputId": "dd39dcec-3f65-424d-bf18-3e1cd69291e5"
      },
      "execution_count": 34,
      "outputs": [
        {
          "output_type": "stream",
          "name": "stdout",
          "text": [
            "+-----+------------+--------------+\n",
            "|Month|ProductNames|SuggestedStock|\n",
            "+-----+------------+--------------+\n",
            "|   01|   Bed Frame|             7|\n",
            "|   01|   Bookshelf|             6|\n",
            "|   01|Coffee Table|             5|\n",
            "|   01|Dining Table|             5|\n",
            "|   01|     Dresser|             5|\n",
            "|   01|Office Chair|             6|\n",
            "|   01|    Recliner|             8|\n",
            "|   01|        Sofa|             6|\n",
            "|   01|    TV Stand|             5|\n",
            "|   01|    Wardrobe|             7|\n",
            "|   02|   Bed Frame|             6|\n",
            "|   02|   Bookshelf|             6|\n",
            "|   02|Coffee Table|             6|\n",
            "|   02|Dining Table|             6|\n",
            "|   02|     Dresser|             7|\n",
            "|   02|Office Chair|             6|\n",
            "|   02|    Recliner|             6|\n",
            "|   02|        Sofa|             5|\n",
            "|   02|    TV Stand|             6|\n",
            "|   02|    Wardrobe|             7|\n",
            "+-----+------------+--------------+\n",
            "only showing top 20 rows\n",
            "\n"
          ]
        }
      ]
    },
    {
      "cell_type": "code",
      "source": [],
      "metadata": {
        "id": "Ob7BfbeLAh36"
      },
      "execution_count": null,
      "outputs": []
    }
  ]
}